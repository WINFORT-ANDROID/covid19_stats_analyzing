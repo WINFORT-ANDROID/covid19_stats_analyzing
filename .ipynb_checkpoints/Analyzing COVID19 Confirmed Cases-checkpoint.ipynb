{
 "cells": [
  {
   "cell_type": "code",
   "execution_count": 14,
   "metadata": {},
   "outputs": [],
   "source": [
    "import numpy as np\n",
    "import pandas as pd\n",
    "import matplotlib.pyplot as plt"
   ]
  },
  {
   "cell_type": "code",
   "execution_count": 15,
   "metadata": {},
   "outputs": [],
   "source": [
    "df_confirmed = pd.read_csv('https://raw.githubusercontent.com/CSSEGISandData/COVID-19/master/csse_covid_19_data/csse_covid_19_time_series/time_series_covid19_confirmed_global.csv')\n",
    "# df_confirmed = pd.read_csv('./data/covid19_confirmed.csv')\n",
    "pd.set_option('display.max_columns', 70)"
   ]
  },
  {
   "cell_type": "code",
   "execution_count": 16,
   "metadata": {},
   "outputs": [],
   "source": [
    "df_china = df_confirmed.loc[df_confirmed['Country/Region'] == 'China']\n",
    "confirmed_total_china = df_china.sum(axis=0, skipna=True)[4: ].values\n",
    "# confirmed_total_china"
   ]
  },
  {
   "cell_type": "code",
   "execution_count": 17,
   "metadata": {},
   "outputs": [],
   "source": [
    "df_us = df_confirmed.loc[df_confirmed['Country/Region'] == 'US']\n",
    "confirmed_total_us = df_us.sum(axis=0, skipna=True)[4: ].values\n",
    "# confirmed_total_us"
   ]
  },
  {
   "cell_type": "code",
   "execution_count": 18,
   "metadata": {},
   "outputs": [],
   "source": [
    "df_italy = df_confirmed.loc[df_confirmed['Country/Region'] == 'Italy']\n",
    "confirmed_total_italy = df_italy.sum(axis=0, skipna=True)[4: ].values\n",
    "# confirmed_total_italy"
   ]
  },
  {
   "cell_type": "code",
   "execution_count": 19,
   "metadata": {},
   "outputs": [],
   "source": [
    "df_spain = df_confirmed.loc[df_confirmed['Country/Region'] == 'Spain']\n",
    "confirmed_total_spain = df_spain.sum(axis=0, skipna=True)[4: ].values\n",
    "# confirmed_total_spain"
   ]
  },
  {
   "cell_type": "code",
   "execution_count": 20,
   "metadata": {},
   "outputs": [
    {
     "data": {
      "text/plain": [
       "array([0, 0, 0, 0, 0, 0, 0, 0, 0, 0, 0, 0, 0, 0, 0, 0, 0, 0, 0, 0, 0, 0,\n",
       "       0, 0, 0, 0, 0, 0, 2, 5, 18, 28, 43, 61, 95, 139, 245, 388, 593,\n",
       "       978, 1501, 2336, 2922, 3513, 4747, 5823, 6566, 7161, 8042, 9000,\n",
       "       10075, 11364, 12729, 13938, 14991, 16169, 17361, 18407, 19644,\n",
       "       20610, 21638, 23049, 24811, 27017, 29406, 32332, 35408, 38309,\n",
       "       41495], dtype=object)"
      ]
     },
     "execution_count": 20,
     "metadata": {},
     "output_type": "execute_result"
    }
   ],
   "source": [
    "df_iran = df_confirmed.loc[df_confirmed['Country/Region'] == 'Iran']\n",
    "confirmed_total_iran = df_iran.sum(axis=0, skipna=True)[4: ].values\n",
    "confirmed_total_iran"
   ]
  },
  {
   "cell_type": "code",
   "execution_count": 21,
   "metadata": {},
   "outputs": [
    {
     "data": {
      "text/plain": [
       "array([0, 0, 0, 0, 0, 0, 0, 0, 2, 2, 2, 2, 2, 2, 2, 3, 3, 3, 8, 8, 9, 9,\n",
       "       9, 9, 9, 9, 9, 9, 9, 9, 9, 9, 13, 13, 13, 15, 20, 23, 36, 40, 51,\n",
       "       86, 116, 164, 207, 274, 322, 384, 459, 459, 802, 1144, 1145, 1551,\n",
       "       1960, 2642, 2716, 4014, 5067, 5745, 6726, 8164, 9640, 11812, 14745,\n",
       "       17312, 19780, 22453], dtype=object)"
      ]
     },
     "execution_count": 21,
     "metadata": {},
     "output_type": "execute_result"
    }
   ],
   "source": [
    "df_uk = df_confirmed.loc[df_confirmed['Country/Region'] == 'United Kingdom']\n",
    "confirmed_total_uk = df_uk.sum(axis=0, skipna=True)[4: ].values\n",
    "confirmed_total_uk"
   ]
  },
  {
   "cell_type": "code",
   "execution_count": 22,
   "metadata": {},
   "outputs": [
    {
     "data": {
      "text/plain": [
       "array([0, 2, 3, 3, 3, 4, 5, 5, 5, 6, 6, 6, 6, 6, 6, 6, 11, 11, 11, 11, 11,\n",
       "       11, 11, 12, 12, 12, 12, 12, 12, 12, 12, 12, 12, 14, 18, 38, 57,\n",
       "       100, 130, 191, 204, 288, 380, 656, 959, 1136, 1219, 1794, 2293,\n",
       "       2293, 3681, 4496, 4532, 6683, 7715, 9124, 10970, 12758, 14463,\n",
       "       16243, 20123, 22622, 25600, 29551, 33402, 38105, 40708, 45170],\n",
       "      dtype=object)"
      ]
     },
     "execution_count": 22,
     "metadata": {},
     "output_type": "execute_result"
    }
   ],
   "source": [
    "df_france = df_confirmed.loc[df_confirmed['Country/Region'] == 'France']\n",
    "confirmed_total_france = df_france.sum(axis=0, skipna=True)[4: ].values\n",
    "confirmed_total_france"
   ]
  },
  {
   "cell_type": "code",
   "execution_count": 23,
   "metadata": {},
   "outputs": [
    {
     "data": {
      "text/plain": [
       "array([0, 0, 0, 0, 0, 1, 1, 1, 1, 1, 1, 1, 1, 1, 1, 1, 1, 1, 1, 1, 1, 1,\n",
       "       1, 1, 1, 1, 1, 1, 1, 1, 1, 1, 1, 1, 1, 1, 1, 1, 1, 1, 1, 1, 1, 1,\n",
       "       1, 1, 1, 1, 1, 2, 2, 6, 10, 18, 28, 44, 51, 60, 73, 77, 82, 97,\n",
       "       102, 102, 106, 106, 113, 117, 122], dtype=object)"
      ]
     },
     "execution_count": 23,
     "metadata": {},
     "output_type": "execute_result"
    }
   ],
   "source": [
    "df_sl = df_confirmed.loc[df_confirmed['Country/Region'] == 'Sri Lanka']\n",
    "confirmed_total_sl = df_sl.sum(axis=0, skipna=True)[4: ].values\n",
    "confirmed_total_sl"
   ]
  },
  {
   "cell_type": "code",
   "execution_count": 24,
   "metadata": {},
   "outputs": [],
   "source": [
    "confirmed_total_date = df_uk.columns[4:]\n",
    "# confirmed_total_date"
   ]
  },
  {
   "cell_type": "code",
   "execution_count": 31,
   "metadata": {},
   "outputs": [
    {
     "data": {
      "image/png": "[encoded data removed]",
      "text/plain": [
       "<Figure size 800x500 with 1 Axes>"
      ]
     },
     "metadata": {
      "needs_background": "light"
     },
     "output_type": "display_data"
    }
   ],
   "source": [
    "plt.figure(figsize=(8, 5), dpi=100)\n",
    "\n",
    "# plt.bar(confirmed_total_date, confirmed_total_sl, label='Sri Lanka', color='#1F4788')\n",
    "\n",
    "\n",
    "plt.plot(confirmed_total_date, confirmed_total_china, label='China', linewidth=2, marker='.', markersize=8, color='red', markeredgecolor='red')\n",
    "plt.plot(confirmed_total_date, confirmed_total_italy, label='Italy', linewidth=2, marker='.', markersize=8, color='#8E44AD', markeredgecolor='#8E44AD')\n",
    "plt.plot(confirmed_total_date, confirmed_total_spain, label='Spain', linewidth=2, marker='.', markersize=8, color='#FFA631', markeredgecolor='#FFA631')\n",
    "plt.plot(confirmed_total_date, confirmed_total_iran, label='Iran', linewidth=2, marker='.', markersize=8, markeredgecolor='#049372', color='#049372')\n",
    "plt.plot(confirmed_total_date, confirmed_total_us, label='US', linewidth=2, marker='.', markersize=8, markeredgecolor='#1F4788', color='#1F4788')\n",
    "\n",
    "# plt.plot(confirmed_total_date, confirmed_total_france, label='France', linewidth=2, marker='.', markersize=8, markeredgecolor='red', color='grey')\n",
    "# plt.plot(confirmed_total_date, confirmed_total_uk, label='UK', linestyle='-.', linewidth=2, marker='.', markersize=8, markeredgecolor='yellow', color='black')\n",
    "\n",
    "\n",
    "\n",
    "plt.title('COVID-19 Confirmed Cases', fontdict={'fontname': 'Comic Sans MS', 'fontsize': 15})\n",
    "plt.xlabel('date', fontdict={'fontname': 'Comic Sans MS'})\n",
    "plt.ylabel('cases reported', fontdict={'fontname': 'Comic Sans MS'})\n",
    "plt.xticks(confirmed_total_date[5::7])\n",
    "\n",
    "plt.tight_layout()\n",
    "plt.grid()\n",
    "plt.legend()\n",
    "\n",
    "plt.show()"
   ]
  },
  {
   "cell_type": "code",
   "execution_count": null,
   "metadata": {},
   "outputs": [],
   "source": []
  }
 ],
 "metadata": {
  "kernelspec": {
   "display_name": "Python 3",
   "language": "python",
   "name": "python3"
  },
  "language_info": {
   "codemirror_mode": {
    "name": "ipython",
    "version": 3
   },
   "file_extension": ".py",
   "mimetype": "text/x-python",
   "name": "python",
   "nbconvert_exporter": "python",
   "pygments_lexer": "ipython3",
   "version": "3.7.6"
  }
 },
 "nbformat": 4,
 "nbformat_minor": 4
}
